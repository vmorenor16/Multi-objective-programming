{
 "cells": [
  {
   "cell_type": "markdown",
   "id": "eda372d3",
   "metadata": {},
   "source": [
    "# Importaciones"
   ]
  },
  {
   "cell_type": "code",
   "execution_count": 1,
   "id": "5ddb39a2",
   "metadata": {},
   "outputs": [],
   "source": [
    "import numpy as np\n",
    "import pandas as pd\n",
    "import math"
   ]
  },
  {
   "cell_type": "markdown",
   "id": "022cc2f0",
   "metadata": {},
   "source": [
    "# Paso Nº1:\n",
    "\n",
    "Suponemos que tenemos un grupo de decisión con miembros K. La calificación difusa del k-ésimo tomador de decisiones sobre la alternativa $A_{i}$ con respecto a el criterio $C_{j}$ se denota $\\tilde{x}_{ij}^{k}$ = $(a_{ij}^{k}, b_{ij}^{k},c_{ij}^{k})$ y el peso del criterio $C_{j}$ se remarca como $\\tilde{w}_{j}^{k}$ = $(w_{j1}^{k}, w_{j2}^{k},w_{j3}^{k})$"
   ]
  },
  {
   "cell_type": "code",
   "execution_count": 2,
   "id": "ae77bafa",
   "metadata": {},
   "outputs": [],
   "source": [
    "def paso1(matrix):\n",
    "    \n",
    "    rows, columns = matrix.shape\n",
    "    \n",
    "    fuzzy_matrix = np.zeros((rows,columns), dtype = np.ndarray)\n",
    "    \n",
    "    for i in range(rows):\n",
    "        for j in range(columns):\n",
    "            if(matrix[i,j] < 10.0):\n",
    "                fuzzy_matrix[i,j] = np.array([0.0, 0.0, 1.0])\n",
    "                \n",
    "            elif(matrix[i,j] >= 10.0 and matrix[i,j] < 20.0):\n",
    "                fuzzy_matrix[i,j] =np.array([0.0, 1.0, 3.0])\n",
    "                \n",
    "            elif(matrix[i,j] >= 20.0 and matrix[i,j] < 40.0):\n",
    "                fuzzy_matrix[i,j] = np.array([1.0, 3.0, 5.0])\n",
    "                \n",
    "            elif(matrix[i,j] >= 40.0 and matrix[i,j] < 55.0):\n",
    "                fuzzy_matrix[i,j] = np.array([3.0, 5.0, 7.0])\n",
    "                \n",
    "            elif(matrix[i,j] >= 55.0 and matrix[i,j] < 70.0):\n",
    "                fuzzy_matrix[i,j] = np.array([5.0, 7.0, 9.0])\n",
    "            \n",
    "            elif(matrix[i,j] >= 70.0 and matrix[i,j] < 100.0):\n",
    "                fuzzy_matrix[i,j] = np.array([7.0, 9.0, 10.0])\n",
    "            \n",
    "            elif(matrix[i,j] == 100.0):\n",
    "                fuzzy_matrix[i,j] = np.array([9.0, 10.0, 10.0])\n",
    "                \n",
    "    return fuzzy_matrix"
   ]
  },
  {
   "cell_type": "markdown",
   "id": "be7264c7",
   "metadata": {},
   "source": [
    "# Paso Nº2\n",
    "\n",
    "Calcule las calificaciones difusas agregadas para las alternativas y los pesos difusos agregados para los criterios.\n",
    "    \n",
    "La calificación difusa agregada $x_{ij} = (a_{ij}, b_{ij}, c_{ij})$ de la i-ésima alternativa con respecto a el j-ésimo criterio se obtiene de la siguiente manera:\n",
    "    \n",
    "\n",
    "$ a_{ij} = \\min_{k}\\left\\{a_{i j}^{k}\\right\\}, b_{i j}=\\frac{1}{K} \\sum_{k=1}^{K} b_{i j}^{k}, c_{i j}=\\max _{k}\\left\\{c_{i j}^{k}\\right\\}$\n",
    "\n",
    "El peso difuso agregado $w_{j} = (w_{j1}, w_{j2}, w_{j3}$ para el criterio $C_{j}$ se calcula como:\n",
    "    \n",
    "$w_{j 1}=\\min _{k}\\left\\{w_{j 1}^{k}\\right\\}, w_{j 2}=\\frac{1}{K} \\sum_{k=1}^{K} w_{j 2}^{k}, w_{j 3}=\\max _{k}\\left\\{w_{j 3}^{k}\\right\\}$\n",
    "\n",
    "donde k es el k-ésimo decisor del problema\n",
    "\n",
    "\n",
    "En esta situación al tener solo un decisor en el problema el paso se obviara.\n"
   ]
  },
  {
   "cell_type": "markdown",
   "id": "1d09d5fa",
   "metadata": {},
   "source": [
    "# Paso Nº3\n",
    "\n",
    "Calcule la matriz de decisión difusa normalizada\n",
    "    \n",
    "La matriz de decisión difusa normalizada es $\\tilde{R} = [\\tilde{r}_{ij}]$, donde\n",
    "    \n",
    "    \n",
    "$\\tilde{r}_{i j}=\\left(\\frac{a_{i j}}{c_{j}^{*}}, \\frac{b_{i j}}{c_{j}^{*}}, \\frac{c_{i j}}{c_{j}^{*}}\\right) \\text{ de donde } c_{j}^{*}=\\max _{i}\\left\\{c_{i j}\\right\\} \\text{Criterios de beneficio}$\n",
    "\n",
    "    \n",
    "$ \\tilde{r}_{i j}=\\left(\\frac{c_{j}^{-}}{c_{i j}}, \\frac{c_{j}^{-}}{b_{i j}}, \\frac{c_{j}^{-}}{a_{ij}}\\right) \\text { de donde } c_{j}^{-}=\\min _{i}\\left\\{a_{ij}\\right\\} \\text {Criterios de costo} .\n",
    "$"
   ]
  },
  {
   "cell_type": "code",
   "execution_count": 11,
   "id": "edfcbbb9",
   "metadata": {},
   "outputs": [],
   "source": [
    "def paso3(matrix, criteria):\n",
    "    \n",
    "    rows, columns = matrix.shape\n",
    "    \n",
    "    fuzzy_normalized = np.copy(matrix) \n",
    "    \n",
    "    benefit_criteria = np.zeros(columns, dtype = np.ndarray)\n",
    "    \n",
    "    cost_criteria = np.zeros(columns, dtype = np.ndarray)\n",
    "    \n",
    "    maximize = 0\n",
    "    minimize = 100\n",
    "    \n",
    "    benefit_number = np.array([0,0,0])\n",
    "    cost_number = np.array([0,0,0])\n",
    "    \n",
    "    for j in range(columns):\n",
    "        for i in range(rows):\n",
    "            if(matrix[i,j][2] > maximize):\n",
    "                benefit_number = matrix[i,j]\n",
    "                maximize = matrix[i,j][2]\n",
    "            if(minimize > matrix[i,j][0]):\n",
    "                cost_number = matrix[i,j]\n",
    "                minimize = matrix[i,j][0]\n",
    "        \n",
    "        benefit_criteria[j] = benefit_number\n",
    "        cost_criteria[j] = cost_number\n",
    "        \n",
    "        maximize = 0\n",
    "        minimize = 100\n",
    "        \n",
    "    for i in range(rows):\n",
    "        for j in range(columns):\n",
    "            if(criteria[j]):\n",
    "                fuzzy_normalized[i,j][0] = matrix[i,j][0]/benefit_criteria[j][2]\n",
    "                fuzzy_normalized[i,j][1] = matrix[i,j][1]/benefit_criteria[j][2]\n",
    "                fuzzy_normalized[i,j][2] = matrix[i,j][2]/benefit_criteria[j][2]\n",
    "                \n",
    "            else:\n",
    "                fuzzy_normalized[i,j][0] = cost_criteria[j][0]/matrix[i,j][2]\n",
    "                fuzzy_normalized[i,j][1] = cost_criteria[j][0]/matrix[i,j][1]\n",
    "                fuzzy_normalized[i,j][2] = cost_criteria[j][0]/matrix[i,j][0]\n",
    "                \n",
    "    return fuzzy_normalized  \n",
    "    \n"
   ]
  },
  {
   "cell_type": "markdown",
   "id": "17078ed1",
   "metadata": {},
   "source": [
    "# Paso Nº4 \n",
    "\n",
    "Calcular la matriz de decisión difusa normalizada ponderada.\n",
    "    \n",
    "$\\tilde{V} = (\\tilde{v}_{ij}), \\text{ donde } \\tilde{v}_{ij} = \\tilde{r}_{ij} \\times w_{j}$\n",
    "\n",
    "    \n",
    "    "
   ]
  },
  {
   "cell_type": "code",
   "execution_count": 3,
   "id": "3ad47633",
   "metadata": {},
   "outputs": [],
   "source": [
    "def paso4(matrix, weights):\n",
    "    \n",
    "    rows, columns = matrix.shape\n",
    "    \n",
    "    fuzzy_weighted = np.copy(matrix)\n",
    "    \n",
    "    for i in range(rows):\n",
    "        for j in range(columns):\n",
    "            fuzzy_weighted[i,j] = matrix[i,j]*weights[j]\n",
    "\n",
    "            \n",
    "    return fuzzy_weighted"
   ]
  },
  {
   "cell_type": "markdown",
   "id": "de6ce532",
   "metadata": {},
   "source": [
    "# Paso 5 \n",
    "\n",
    " Calcular la solución ideal positiva disusa y la solución ideal negativa difusa, calculadas de la siguiente manera respectivamente:\n",
    "\n",
    "$ A^{*} = (\\tilde{v}_{1}^{*}, \\tilde{v}_{2}^{*}, \\ldots, \\tilde{v}_{n}^{*}) \\text{ donde } \\tilde{v}_{j}^{*} = \\max_{i}\\{v_{ij3}\\}$\n",
    "\n",
    "$ A^{-} = (\\tilde{v}_{1}^{-}, \\tilde{v}_{2}^{-}, \\ldots, \\tilde{v}_{n}^{-}) \\text{ donde } \\tilde{v}_{j}^{-} = \\min_{i}\\{v_{ij1}\\}$"
   ]
  },
  {
   "cell_type": "code",
   "execution_count": 4,
   "id": "417daedd",
   "metadata": {},
   "outputs": [],
   "source": [
    "def paso5(matrix):\n",
    "    \n",
    "    rows, columns = matrix.shape\n",
    "    \n",
    "    positive_ideal_solution = np.zeros(columns, dtype = np.ndarray)\n",
    "    negative_ideal_solution = np.zeros(columns, dtype =  np.ndarray)\n",
    "    \n",
    "    \n",
    "    fuzzy_max = np.array([0,0,0])\n",
    "    fuzzy_min = np.array([1000,1000,1000])\n",
    "   \n",
    "    for j in range(columns):\n",
    "        for i in range(rows):\n",
    "            \n",
    "            if(matrix[i,j][2] > fuzzy_max[2]):\n",
    "                fuzzy_max = matrix[i,j]\n",
    "                \n",
    "            elif(matrix[i,j][2] == fuzzy_max[2]):\n",
    "                if(matrix[i,j][1] > fuzzy_max[1]):\n",
    "                    fuzzy_max = matrix[i,j]\n",
    "                \n",
    "             \n",
    "            if(matrix[i,j][0] < fuzzy_min[0]):\n",
    "                fuzzy_min = matrix[i,j]\n",
    "                \n",
    "            elif(matrix[i,j][0] == fuzzy_min[0]):\n",
    "                if(matrix[i,j][1] < fuzzy_min[1]):\n",
    "                    fuzzy_min = matrix[i,j]\n",
    "\n",
    "                \n",
    "                \n",
    "        positive_ideal_solution[j] = fuzzy_max\n",
    "        negative_ideal_solution[j] = fuzzy_min\n",
    "        fuzzy_max = np.array([0,0,0])\n",
    "        fuzzy_min = np.array([1000,1000,1000])\n",
    "        \n",
    "    return positive_ideal_solution, negative_ideal_solution\n",
    "        "
   ]
  },
  {
   "cell_type": "markdown",
   "id": "55aa49f7",
   "metadata": {},
   "source": [
    "# Paso Nº6\n",
    "\n",
    "Calcule la distancia de cada alternativa a la solución ideal positiva y negativa, usando (2)\n",
    "    \n",
    "$d_{i}^{*}=\\sum_{j=1}^{n} d\\left(\\tilde{v}_{i j}, \\tilde{v}_{j}^{*}\\right), d_{i}^{-}=\\sum_{j=1}^{n} d\\left(\\tilde{v}_{i j}, \\tilde{v}_{j}^{-}\\right)$\n",
    "\n",
    "donde\n",
    "\n",
    "$d(\\tilde{x}, \\tilde{y}):=\\sqrt{\\frac{1}{3}\\left[\\left(a_{1}-a_{2}\\right)^{2}+\\left(b_{1}-b_{2}\\right)^{2}+\\left(c_{1}-c_{2}\\right)^{2}\\right]}$"
   ]
  },
  {
   "cell_type": "code",
   "execution_count": 5,
   "id": "af31eeb1",
   "metadata": {},
   "outputs": [],
   "source": [
    "def paso6(matrix, positive_ideal_solution, negative_ideal_solution):\n",
    "    \n",
    "    rows, columns = matrix.shape\n",
    "    \n",
    "    positive_distance = []\n",
    "    negative_distance = []\n",
    "    acum1 = 0\n",
    "    acum2 = 0\n",
    "    \n",
    "    for i in range(rows):\n",
    "        for j in range(columns):\n",
    "            acum1 = acum1 + fuzzy_distance(matrix[i,j],positive_ideal_solution[j])\n",
    "        \n",
    "            \n",
    "            acum2 = acum2 + fuzzy_distance(matrix[i,j], negative_ideal_solution[j])\n",
    "        \n",
    "        \n",
    "        positive_distance.append(acum1)\n",
    "        negative_distance.append(acum2)\n",
    "        acum1 = 0\n",
    "        acum2 = 0\n",
    "    \n",
    "        \n",
    "    return positive_distance, negative_distance\n",
    "         "
   ]
  },
  {
   "cell_type": "code",
   "execution_count": 6,
   "id": "8d67f4da",
   "metadata": {},
   "outputs": [],
   "source": [
    "def fuzzy_distance(p1,p2):\n",
    "    \n",
    "    inner = (np.linalg.norm(p1-p2))**2\n",
    "    \n",
    "    distancia = ((1/3)*inner)**(1/2)\n",
    "    \n",
    "    return distancia "
   ]
  },
  {
   "cell_type": "markdown",
   "id": "6f058659",
   "metadata": {},
   "source": [
    "# Paso Nº7\n",
    "\n",
    "Estimar el coeficiente de cercanía $(CC_{i})$ para cada alternativa\n",
    "    \n",
    "$CC_{i}=\\frac{d_{i}^{-}}{d_{i}^{-}+d_{i}^{*}}$\n"
   ]
  },
  {
   "cell_type": "code",
   "execution_count": 7,
   "id": "5a29f4cc",
   "metadata": {},
   "outputs": [],
   "source": [
    "def paso7(positive_distance, negative_distance):\n",
    "    n = positive_distance.size\n",
    "    \n",
    "    cc = np.zeros(n, dtype = float)\n",
    "        \n",
    "    for i in range(n):\n",
    "        cc[i] = negative_distance[i]/(negative_distance[i] + positive_distance[i])\n",
    "        \n",
    "    return cc"
   ]
  },
  {
   "cell_type": "markdown",
   "id": "bdd07422",
   "metadata": {},
   "source": [
    "# Paso Nº8 \n",
    "\n",
    "Clasificar las alternativas, aquella con coeficiente de cercanía más alto representa la mejor alternativa"
   ]
  },
  {
   "cell_type": "code",
   "execution_count": 8,
   "id": "846dec36",
   "metadata": {},
   "outputs": [],
   "source": [
    "def ranking(data):\n",
    "    return [i+1 for i in data.argsort()]"
   ]
  },
  {
   "cell_type": "code",
   "execution_count": 12,
   "id": "e05971a7",
   "metadata": {},
   "outputs": [],
   "source": [
    "matrix = np.array([\n",
    "    [70.0 ,40.0 ,70.0 ,25.0, 50.0, 80.0, 100.0, 70.0, 70.0, 50.0],\n",
    "    [60.0 ,55.0 ,50.0 ,45.0, 50.0, 70.0, 100.0, 80.0, 80.0, 60.0],\n",
    "    [50.0 ,70.0 ,50.0 ,60.0, 60.0, 70.0, 100.0, 70.0, 30.0, 30.0],\n",
    "    [80.0 ,90.0 ,20.0 ,30.0, 70.0, 100.0, 100.0, 80.0, 50.0, 40.0]])\n",
    "\n",
    "fuzzy_weights = np.array([[3,5,7],[3,5,7],[3,5,7],[3,5,7],[3,5,7],[3,5,7],[3,5,7],[3,5,7],[3,5,7],[3,5,7]])\n",
    "\n",
    "#Maximizar - True \n",
    "#Minimizar - False\n",
    "\n",
    "criteria = np.array([True, True, True, True, True, True ,True, True, True, False])\n",
    "\n",
    "fuzzy_matrix = paso1(matrix)\n",
    "\n",
    "normalized_fuzzy_matrix = paso3(fuzzy_matrix, criteria)\n",
    "\n",
    "weighted_fuzzy_matrix = paso4(normalized_fuzzy_matrix,fuzzy_weights)\n",
    "\n",
    "positive_ideal_solution, negative_ideal_solution = paso5(weighted_fuzzy_matrix)\n",
    "\n",
    "positive_distance, negative_distance = paso6(weighted_fuzzy_matrix, positive_ideal_solution, negative_ideal_solution)\n",
    "\n",
    "cc = paso7(np.array(positive_distance), np.array(negative_distance))\n",
    "\n",
    "rankings = ranking(cc)\n"
   ]
  },
  {
   "cell_type": "code",
   "execution_count": 13,
   "id": "ab3d0a5a",
   "metadata": {},
   "outputs": [
    {
     "name": "stdout",
     "output_type": "stream",
     "text": [
      "Results:\n",
      "Positive distance  [330.8886250528091, 77.9899531805609, 146.32410808400408, 36.72941209011067]\n",
      "Negative distance  [0.5025107031723017, 255.78532700935503, 237.3176814991281, 295.48057055437476]\n",
      "--------------------------------------------------------------------\n",
      "Positive ideal solution  [array([21., 45., 70.]) array([21., 45., 70.]) array([ 9., 25., 49.])\n",
      " array([ 3., 15., 35.]) array([2.1, 4.5, 7. ]) array([27., 50., 70.])\n",
      " array([27., 50., 70.]) array([21., 45., 70.]) array([21., 45., 70.])\n",
      " array([ 0.33333333,  0.71428571, 63.        ])]\n",
      "Negative ideal solution  [array([2.1, 4.5, 7. ]) array([0.9, 2.5, 4.9]) array([2.1, 4.5, 7. ])\n",
      " array([0.33333333, 1.66666667, 3.88888889]) array([0.9, 2.5, 4.9])\n",
      " array([2.1, 4.5, 7. ]) array([2.7, 5. , 7. ]) array([2.1, 4.5, 7. ])\n",
      " array([2.1, 4.5, 7. ]) array([ 0.08571429,  0.2       , 49.        ])]\n",
      "--------------------------------------------------------------------\n",
      "Closeness coefficient  [0.00151637 0.76633994 0.61859184 0.88943917]\n",
      "Rankings  [1, 3, 2, 4]\n",
      "--------------------------------------------------------------------\n"
     ]
    }
   ],
   "source": [
    "print(\"Results:\")\n",
    "\n",
    "print(\"Positive distance \", positive_distance)\n",
    "print(\"Negative distance \", negative_distance)\n",
    "\n",
    "print(\"--------------------------------------------------------------------\")\n",
    "\n",
    "print(\"Positive ideal solution \", positive_ideal_solution)\n",
    "print(\"Negative ideal solution \", negative_ideal_solution)\n",
    "\n",
    "print(\"--------------------------------------------------------------------\")\n",
    "\n",
    "print(\"Closeness coefficient \",cc)\n",
    "print(\"Rankings \", rankings)\n",
    "\n",
    "print(\"--------------------------------------------------------------------\")\n"
   ]
  },
  {
   "cell_type": "code",
   "execution_count": 16,
   "id": "fb9461c7",
   "metadata": {},
   "outputs": [],
   "source": [
    "temp =  negative_ideal_solution\n",
    "df = pd.DataFrame(temp).T\n",
    "df.to_excel(\"matrix1.xlsx\")"
   ]
  },
  {
   "cell_type": "code",
   "execution_count": 19,
   "id": "72787ecb",
   "metadata": {},
   "outputs": [],
   "source": [
    "temp3 = np.transpose(weighted_fuzzy_matrix)\n",
    "df = pd.DataFrame(temp3).T\n",
    "df.to_excel(\"eigthed_fuzzy_matrix.xlsx\")"
   ]
  },
  {
   "cell_type": "code",
   "execution_count": null,
   "id": "38b2c7a4",
   "metadata": {},
   "outputs": [],
   "source": []
  }
 ],
 "metadata": {
  "kernelspec": {
   "display_name": "Python 3 (ipykernel)",
   "language": "python",
   "name": "python3"
  },
  "language_info": {
   "codemirror_mode": {
    "name": "ipython",
    "version": 3
   },
   "file_extension": ".py",
   "mimetype": "text/x-python",
   "name": "python",
   "nbconvert_exporter": "python",
   "pygments_lexer": "ipython3",
   "version": "3.9.7"
  }
 },
 "nbformat": 4,
 "nbformat_minor": 5
}
