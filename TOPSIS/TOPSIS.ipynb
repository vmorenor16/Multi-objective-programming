{
 "cells": [
  {
   "cell_type": "markdown",
   "id": "521d5d71",
   "metadata": {},
   "source": [
    "# Importaciones"
   ]
  },
  {
   "cell_type": "code",
   "execution_count": 2,
   "id": "3b2a2bf1",
   "metadata": {},
   "outputs": [],
   "source": [
    "import math \n",
    "import numpy as np "
   ]
  },
  {
   "cell_type": "markdown",
   "id": "1393310a",
   "metadata": {},
   "source": [
    "# Paso Nº1:\n",
    "\n",
    "Create an evaluation matrix consisting of m alternatives and n criteria, with the intersection of each alternative and criteria given as $x_{ij}$, we therefore have a matrix $(x_{ij})_{(m×n)}$.\n"
   ]
  },
  {
   "cell_type": "markdown",
   "id": "7a35f5e5",
   "metadata": {},
   "source": [
    "# Paso Nº2:\n",
    "\n",
    "The matrix $\\left(x_{i j}\\right)_{m \\times n}$ is then normalised to form the matrix\n",
    "$R=\\left(r_{i j}\\right)_{m \\times n}$, using the normalisation method\n",
    "\n",
    "$$\n",
    "r_{i j}=\\frac{x_{i j}}{\\sqrt{\\sum_{k=1}^{m} x_{k j}^{2}}}, \\quad i=1,2, \\ldots, m, \\quad j=1,2, \\ldots, n\n",
    "$$"
   ]
  },
  {
   "cell_type": "code",
   "execution_count": 3,
   "id": "08690b54",
   "metadata": {},
   "outputs": [],
   "source": [
    "def paso2(matrix):\n",
    "    \n",
    "    rows, columns = matrix.shape\n",
    "    \n",
    "    normal_matrix = np.copy(matrix)\n",
    "    \n",
    "    x_kj = np.zeros(columns)\n",
    "    \n",
    "    for i in range(rows):\n",
    "        for j in range(columns):\n",
    "            x_kj[j] += matrix[i, j]**2\n",
    "            \n",
    "    for i in range(rows):\n",
    "        for j in range(columns):\n",
    "            normal_matrix[i,j] = matrix[i, j]/(x_kj[j]**0.5)\n",
    "\n",
    "\n",
    "        \n",
    "    return normal_matrix"
   ]
  },
  {
   "cell_type": "markdown",
   "id": "0c7657f1",
   "metadata": {},
   "source": [
    "# Paso Nº3\n",
    "\n",
    "Calculate the weighted normalised decision matrix $t_{i j}=r_{i j} \\cdot w_{j}, \\quad i=1,2, \\ldots, m, \\quad j=1,2, \\ldots, n$ \n"
   ]
  },
  {
   "cell_type": "code",
   "execution_count": 4,
   "id": "96764cb7",
   "metadata": {},
   "outputs": [],
   "source": [
    "def paso3(matrix, weight):\n",
    "    rows, columns = matrix.shape\n",
    "    \n",
    "    weighted_normalized = np.copy(matrix)\n",
    "    \n",
    "    for i in range(rows):\n",
    "        for j in range(columns):\n",
    "            weighted_normalized[i, j] *= weight[j]\n",
    "    \n",
    "    return weighted_normalized\n",
    "\n"
   ]
  },
  {
   "cell_type": "markdown",
   "id": "db97a86f",
   "metadata": {},
   "source": [
    "# Paso Nº4\n",
    "\n",
    "Determine the worst alternative $\\left(A_{w}\\right)$ and the best alternative $\\left(A_{b}\\right)$ :\n",
    "\n",
    "$$\n",
    "\\begin{aligned}\n",
    "&A_{w}=\\left\\{\\left\\langle\\max \\left(t_{i j} \\mid i=1,2, \\ldots, m\\right) \\mid j \\in J_{-}\\right\\rangle,\\left\\langle\\min \\left(t_{i j} \\mid i=1,2, \\ldots, m\\right) \\mid j \\in J_{+}\\right\\rangle\\right\\} \\equiv\\left\\{t_{w j} \\mid j=1,2, \\ldots, n\\right\\} \\\\\n",
    "&A_{b}=\\left\\{\\left\\langle\\min \\left(t_{i j} \\mid i=1,2, \\ldots, m\\right) \\mid j \\in J_{-}\\right\\rangle,\\left\\langle\\max \\left(t_{i j} \\mid i=1,2, \\ldots, m\\right) \\mid j \\in J_{+}\\right\\rangle\\right\\} \\equiv\\left\\{t_{b j} \\mid j=1,2, \\ldots, n\\right\\}\n",
    "\\end{aligned}\n",
    "$$\n",
    "\n",
    "where,\n",
    "$J_{+}=\\{j=1,2, \\ldots, n \\mid j\\}$ associated with the criteria having a positive impact, and\n",
    "\n",
    "$J_{-}=\\{j=1,2, \\ldots, n \\mid j\\}$ associated with the criteria having a negative impact."
   ]
  },
  {
   "cell_type": "code",
   "execution_count": 5,
   "id": "3c10f670",
   "metadata": {},
   "outputs": [],
   "source": [
    "def paso4(matrix, criteria):\n",
    "    \n",
    "    rows, columns = matrix.shape\n",
    "\n",
    "    worst_alternatives = np.zeros(columns)\n",
    "    best_alternatives = np.zeros(columns)\n",
    "    \n",
    "    for i in range(columns):\n",
    "        if(criteria[i]):\n",
    "            worst_alternatives[i] = min(matrix[:, i])\n",
    "            best_alternatives[i] = max(matrix[:, i])\n",
    "        else:\n",
    "            worst_alternatives[i] = max(matrix[:, i])\n",
    "            best_alternatives[i] = min(matrix[:, i])\n",
    "    \n",
    "    return worst_alternatives, best_alternatives"
   ]
  },
  {
   "cell_type": "markdown",
   "id": "bdde1a3b",
   "metadata": {},
   "source": [
    "# Paso Nº5\n",
    "\n",
    "Calculate the $\\mathrm{L}^{2}$-distance between the target alternative $i$ and the worst condition $A_{w}$\n",
    "\n",
    "$$\n",
    "d_{i w}=\\sqrt{\\sum_{j=1}^{n}\\left(t_{i j}-t_{w j}\\right)^{2}}, \\quad i=1,2, \\ldots, m\n",
    "$$\n",
    "\n",
    "and the distance between the alternative $i$ and the best condition $A_{b}$\n",
    "\n",
    "$$\n",
    "d_{i b}=\\sqrt{\\sum_{j=1}^{n}\\left(t_{i j}-t_{b j}\\right)^{2}}, \\quad i=1,2, \\ldots, m\n",
    "$$\n",
    "\n",
    "where $d_{i w}$ and $d_{i b}$ are $\\mathrm{L}^{2}$-norm distances from the target alternative $i$ to the worst and best conditions, respectively."
   ]
  },
  {
   "cell_type": "code",
   "execution_count": 6,
   "id": "de8625dc",
   "metadata": {},
   "outputs": [],
   "source": [
    "def paso5(matrix, worst_alternative, best_alternatives):\n",
    "    rows, columns = matrix.shape\n",
    "    \n",
    "    worst_distance = np.zeros(rows)\n",
    "    best_distance = np.zeros(rows)\n",
    "\n",
    "    worst_distance_mat = np.copy(matrix)\n",
    "    best_distance_mat = np.copy(matrix)\n",
    "\n",
    "    for i in range(rows):\n",
    "        for j in range(columns):\n",
    "            worst_distance_mat[i][j] = (matrix[i][j]-worst_alternatives[j])**2\n",
    "            best_distance_mat[i][j] = (matrix[i][j]-best_alternatives[j])**2\n",
    "                \n",
    "            worst_distance[i] += worst_distance_mat[i][j]\n",
    "            best_distance[i] += best_distance_mat[i][j]\n",
    "\n",
    "        for i in range(rows):\n",
    "            worst_distance[i] = worst_distance[i]**0.5\n",
    "            best_distance[i] = best_distance[i]**0.5\n",
    "            \n",
    "    return worst_distance, best_distance"
   ]
  },
  {
   "cell_type": "markdown",
   "id": "615f421b",
   "metadata": {},
   "source": [
    "# Paso Nº6\n",
    "\n",
    "Calculate the similarity to the worst condition:\n",
    "\n",
    "$$\n",
    "s_{i w}=d_{i w} /\\left(d_{i w}+d_{i b}\\right), \\quad 0 \\leq s_{i w} \\leq 1, \\quad i=1,2, \\ldots, m .\n",
    "$$\n",
    "\n",
    "$s_{i w}=1$ if and only if the alternative solution has the best condition; and\n",
    "\n",
    "$s_{i w}=0$ if and only if the alternative solution has the worst condition."
   ]
  },
  {
   "cell_type": "code",
   "execution_count": 7,
   "id": "29ff39a5",
   "metadata": {},
   "outputs": [],
   "source": [
    "def paso6(matrix, worst_distance, best_distance):\n",
    "    \n",
    "    rows, columns = matrix.shape   \n",
    "    \n",
    "    worst_similarity = np.zeros(rows)\n",
    "    best_similarity = np.zeros(rows)\n",
    "\n",
    "    for i in range(rows):\n",
    "        worst_similarity[i] = worst_distance[i] / \\\n",
    "        (worst_distance[i] + best_distance[i])\n",
    "\n",
    "        best_similarity[i] = best_distance[i] / \\\n",
    "        (worst_distance[i] + best_distance[i])\n",
    "        \n",
    "    return worst_similarity, best_similarity"
   ]
  },
  {
   "cell_type": "markdown",
   "id": "acbed78a",
   "metadata": {},
   "source": [
    "# Paso Nº7 \n",
    "\n",
    "Rank the alternatives according to $s_{i w}(i=1,2, \\ldots, m)$."
   ]
  },
  {
   "cell_type": "code",
   "execution_count": 8,
   "id": "996a63e3",
   "metadata": {},
   "outputs": [],
   "source": [
    "def ranking(data):\n",
    "    return [i+1 for i in data.argsort()]\n",
    "\n",
    "def rank_to_worst_similarity(worst_similarity):\n",
    "    return ranking(worst_similarity)\n",
    "\n",
    "def rank_to_best_similarity(best_similarity):\n",
    "    return ranking(best_similarity)"
   ]
  },
  {
   "cell_type": "code",
   "execution_count": 9,
   "id": "66d0eff2",
   "metadata": {},
   "outputs": [],
   "source": [
    "matrix = np.array([\n",
    "    [70.0 ,40.0 ,70.0 ,25.0, 50.0, 80.0, 100.0, 70.0, 70.0, 50.0],\n",
    "    [60.0 ,55.0 ,50.0 ,45.0, 50.0, 70.0, 100.0, 80.0, 80.0, 60.0],\n",
    "    [50.0 ,70.0 ,50.0 ,60.0, 60.0, 70.0, 100.0, 70.0, 30.0, 30.0],\n",
    "    [80.0 ,90.0 ,20.0 ,30.0, 70.0, 100.0, 100.0, 80.0, 50.0, 40.0]])\n",
    "\n",
    "weights = [0.1, 0.1, 0.1, 0.1, 0.1, 0.1, 0.1, 0.1, 0.1, 0.1]\n",
    "\n",
    "#Maximizar - True \n",
    "#Minimizar - False\n",
    "\n",
    "criteria = np.array([True, True, True, True, True, True ,True, True, True, False])\n",
    "\n",
    "normal = paso2(matrix)\n",
    "\n",
    "weighted = paso3(normal, weights)\n",
    "\n",
    "worst_alternatives, best_alternatives = paso4(weighted, criteria)\n",
    "\n",
    "worst_distance, best_distance = paso5(weighted, worst_alternatives, best_alternatives)\n",
    "\n",
    "worst_similarity, best_similarity = paso6(weighted, worst_distance, best_distance)\n",
    "\n",
    "rank1 = rank_to_worst_similarity(worst_similarity)\n",
    "\n",
    "rank2 = rank_to_best_similarity(best_similarity)\n"
   ]
  },
  {
   "cell_type": "code",
   "execution_count": 11,
   "id": "741cce9c",
   "metadata": {},
   "outputs": [
    {
     "name": "stdout",
     "output_type": "stream",
     "text": [
      "Results:\n",
      "Best distance  [0.71048258 0.48983359 0.23958833 0.06644133]\n",
      "Worst distance  [0.70703547 0.49073324 0.2548498  0.05824025]\n",
      "--------------------------------------------------------------------\n",
      "Worst similarity  [0.4987841  0.50045874 0.51543314 0.46711192]\n",
      "Rank to worst similarity  [4, 1, 2, 3]\n",
      "--------------------------------------------------------------------\n",
      "Best similarity  [0.5012159  0.49954126 0.48456686 0.53288808]\n",
      "Rank to worst similarity  [3, 2, 1, 4]\n"
     ]
    }
   ],
   "source": [
    "print(\"Results:\")\n",
    "\n",
    "print(\"Best distance \", best_distance)\n",
    "print(\"Worst distance \", worst_distance)\n",
    "\n",
    "print(\"--------------------------------------------------------------------\")\n",
    "\n",
    "print(\"Worst similarity \", worst_similarity)\n",
    "print(\"Rank to worst similarity \", rank1)\n",
    "\n",
    "print(\"--------------------------------------------------------------------\")\n",
    "\n",
    "print(\"Best similarity \", best_similarity)\n",
    "print(\"Rank to worst similarity \", rank2)"
   ]
  }
 ],
 "metadata": {
  "kernelspec": {
   "display_name": "Python 3 (ipykernel)",
   "language": "python",
   "name": "python3"
  },
  "language_info": {
   "codemirror_mode": {
    "name": "ipython",
    "version": 3
   },
   "file_extension": ".py",
   "mimetype": "text/x-python",
   "name": "python",
   "nbconvert_exporter": "python",
   "pygments_lexer": "ipython3",
   "version": "3.9.7"
  }
 },
 "nbformat": 4,
 "nbformat_minor": 5
}
